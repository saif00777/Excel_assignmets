{
 "cells": [
  {
   "attachments": {},
   "cell_type": "markdown",
   "metadata": {},
   "source": [
    "1. How and when to use the AutoSum command in excel?\n",
    "In Excel, a range of cells can be quickly added to using the AutoSum command. Do the following actions to use AutoSum:\n",
    "Choose the cell in which the sum should appear.\n",
    "On the Home tab, select the Editing group and then click the AutoSum option.\n",
    "Excel will automatically choose the range that it believes you want to sum. Press Enter to complete the formula if it is accurate."
   ]
  },
  {
   "attachments": {},
   "cell_type": "markdown",
   "metadata": {},
   "source": [
    "2. What is the shortcut key to perform AutoSum?\n",
    "Alt + = is the shortcut for performing AutoSum."
   ]
  },
  {
   "attachments": {},
   "cell_type": "markdown",
   "metadata": {},
   "source": [
    "3. How do you get rid of Formula that omits adjacent cells?\n",
    "If a formula leaves out neighbouring cells, you can add them by choosing the formula's contained cell and dragging the handle across the neighbouring cells. As an alternative, you can update the formula by first clicking on the cell where it appears, then clicking on the formula bar."
   ]
  },
  {
   "attachments": {},
   "cell_type": "markdown",
   "metadata": {},
   "source": [
    "4. How do you select non-adjacent cells in Excel 2016?\n",
    "In Excel 2016: To pick cells that are not adjacent:\n",
    "\n",
    "Choose the first cell or range of cells by clicking on them.\n",
    "Keep the Ctrl key on your keyboard depressed.\n",
    "Each subsequent cell or range of cells that you wish to choose should be clicked."
   ]
  },
  {
   "attachments": {},
   "cell_type": "markdown",
   "metadata": {},
   "source": [
    "5. What happens if you choose a column, hold down the Alt key and press the letters\n",
    "ocw in quick succession?\n",
    "Excel will hide the selected column if you select it, press and hold the Alt key, and quickly type the letters ocw. You can select the columns to the left and right of the hidden column, right-click, and select Unhide to make the column visible again."
   ]
  },
  {
   "attachments": {},
   "cell_type": "markdown",
   "metadata": {},
   "source": [
    "6. If you right-click on a row reference number and click on Insert, where will the row\n",
    "be added?\n",
    "The new row will be added above the currently selected row if you right-click on a row reference number and choose Insert."
   ]
  }
 ],
 "metadata": {
  "language_info": {
   "name": "python"
  },
  "orig_nbformat": 4
 },
 "nbformat": 4,
 "nbformat_minor": 2
}
