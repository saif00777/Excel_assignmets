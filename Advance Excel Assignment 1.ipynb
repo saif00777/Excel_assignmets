{
 "cells": [
  {
   "attachments": {},
   "cell_type": "markdown",
   "metadata": {},
   "source": [
    "1. What do you mean by cells in an excel sheet?\n",
    "The individual rectangular boxes created by the intersection of rows and columns are referred to as cells in an Excel sheet. The combination of the column letter and row number serves as the cell's individual address or reference (e.g., A1, B2, C3, etc.). Data of all kinds, including text, numbers, formulas, and functions, can be stored in cells."
   ]
  },
  {
   "attachments": {},
   "cell_type": "markdown",
   "metadata": {},
   "source": [
    "2. How can you restrict someone from copying a cell from your worksheet?\n",
    "You can set a password to safeguard the worksheet or workbook to prevent someone from copying a cell from it. To do this, select \"Protect Sheet\" or \"Protect Workbook\" from the \"Review\" menu, then enter a password to secure the document. By doing this, unauthorised users won't be able to copy or alter worksheet cells."
   ]
  },
  {
   "attachments": {},
   "cell_type": "markdown",
   "metadata": {},
   "source": [
    "3. How to move or copy the worksheet into another workbook?\n",
    "Use the \"Move or Copy Sheet\" option to move or copy a worksheet into another workbook. To move or copy a worksheet, perform a right-click on the worksheet tab, select \"Move or Copy,\" pick the target workbook from the \"To book\" dropdown list, and then decide whether to move or copy the worksheet. To complete the process, click OK."
   ]
  },
  {
   "attachments": {},
   "cell_type": "markdown",
   "metadata": {},
   "source": [
    "4. Which key is used as a shortcut for opening a new window document?\n",
    "Depending on the computer's operating system and the version of Excel being used, a different key may be used as a shortcut to open a new window document. On a Mac, the shortcut key is typically Command+N while it is typically Ctrl+N on Windows."
   ]
  },
  {
   "attachments": {},
   "cell_type": "markdown",
   "metadata": {},
   "source": [
    "5. What are the things that we can notice after opening the Excel interface?\n",
    "You will see a blank workbook with a grid of rows and columns when you first start the Excel interface. The tabs Home, Insert, Page Layout, Formulas, Data, Review, and View in the ribbon menu at the top of the screen give users access to many tools and tasks. The Status Bar displays details about the active worksheet, including the current cell mode, sum, count, and average of chosen cells, while the Formula Bar reveals the contents of the presently selected cell."
   ]
  },
  {
   "attachments": {},
   "cell_type": "markdown",
   "metadata": {},
   "source": [
    "6. When to use a relative cell reference in excel?\n",
    "When referencing a cell in an Excel formula that can vary depending on where the formula is located in relation to the cell being referenced, you should use a relative cell reference. When a formula in cell C1 that references to cell A1 is copied to cell C2, the reference to A1 will immediately become a reference to cell A2. When you want to utilise the same formula on several cells or ranges without having to manually change the references, this kind of referencing is helpful."
   ]
  }
 ],
 "metadata": {
  "language_info": {
   "name": "python"
  },
  "orig_nbformat": 4
 },
 "nbformat": 4,
 "nbformat_minor": 2
}
