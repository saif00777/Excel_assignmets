{
 "cells": [
  {
   "attachments": {},
   "cell_type": "markdown",
   "metadata": {},
   "source": [
    "1. What does the dollar($) sign do?\n",
    "In Excel, an absolute cell reference is created by using the dollar sign ($). When a row or column identifier in a cell reference includes a dollar sign in front of it, it indicates that the row or column is fixed and won't change when the formula is copied to another cell. For instance, if you duplicate a formula from cell B1 to cell B2 and the reference to cell A1 changes to the reference to cell A2, the formula in cell B2 will become =A22. The formula will always refer to cell A1 if you use an absolute cell reference by appending a dollar sign to the row and/or column name, such as =A$1*2, regardless of where you copy it to."
   ]
  },
  {
   "attachments": {},
   "cell_type": "markdown",
   "metadata": {},
   "source": [
    "2. How to Change the Reference from Relative to Absolute (or Mixed)?\n",
    "With Excel, you can append dollar signs ($) to the cell reference to alter it from a relative to an absolute or mixed reference. Use dollar signs ($A$1) in front of the row and column identifiers to make the entire cell reference absolute. Adding a dollar sign in front of the row or column identifier, as in A$1 or $A1, will make any or both of them absolute, but not both."
   ]
  },
  {
   "attachments": {},
   "cell_type": "markdown",
   "metadata": {},
   "source": [
    "3. Explain the order of operations in excel?\n",
    "The formula's calculations are carried out in the formula's order of operations in Excel. The following is the order of events:\n",
    "\n",
    "Parentheses (do computations within parentheses first) (perform calculations inside parentheses first)\n",
    "Exponents (compute any exponentiations) (calculate any exponentiations)\n",
    "Division and Exponentiation (perform these operations left to right)\n",
    "Subtraction and Addition (perform these operations left to right)"
   ]
  },
  {
   "attachments": {},
   "cell_type": "markdown",
   "metadata": {},
   "source": [
    "4. What, according to you, are the top 5 functions in excel and write a basic syntax\n",
    "for any of two?\n",
    "\n",
    "The top 5 Excel functions are:\n",
    "SUM: Adds up a number range.\n",
    "Formula: =SUM (number1,[number2],...)\n",
    "Calculates an array of numbers' arithmetic means, or averages.\n",
    "Formula: =AVERAGE (number1,[number2],...)\n",
    "Counts the number of cells in a range that are made up entirely of numbers.\n",
    "Formula: =COUNT (value1,[value2],...)\n",
    "Syntax: =IF(logical test,value if true,value if false) IF: Tests a logical condition and returns one value if the condition is true and another value if the condition is false\n",
    "VLOOKUP: This function looks for a value in a table's or range's first column and returns a corresponding value in the same row from a given column.\n",
    "=VLOOKUP (lookup value, table array, col index number, [range lookup])"
   ]
  },
  {
   "attachments": {},
   "cell_type": "markdown",
   "metadata": {},
   "source": [
    "5. When would you use the subtotal function?\n",
    "Excel's SUBTOTAL function can be used to make computations on a range of data while ignoring any potential subtotals. When you wish to total or conduct another type of calculation on a range of data but you don't want to include any possible subtotals or other summary numbers, you would use the SUBTOTAL function."
   ]
  },
  {
   "attachments": {},
   "cell_type": "markdown",
   "metadata": {},
   "source": [
    "6. What is the syntax of the vlookup function? Explain the terms in it?\n",
    "The VLOOKUP function's syntax is as follows:\n",
    "\n",
    "=VLOOKUP(lookup value,table array,col index num,[range lookup])\n",
    "\n",
    "lookup value: The value in the table or range's leftmost column that you want to search up.\n",
    "table array: The set of cells in the data table you want to search within. The range must include the column from which you want to return a value, and the first column of the range must have the lookup value.\n",
    "col index num: The table array column number you want to return a value from.\n",
    "range lookup: A choice between an exact match and an approximation for the lookup value is made using this optional argument. Enter TRUE or 1 for an approximate match or FALSE for an exact match."
   ]
  }
 ],
 "metadata": {
  "language_info": {
   "name": "python"
  },
  "orig_nbformat": 4
 },
 "nbformat": 4,
 "nbformat_minor": 2
}
