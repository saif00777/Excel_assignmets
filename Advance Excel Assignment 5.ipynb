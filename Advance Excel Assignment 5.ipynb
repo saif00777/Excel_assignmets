{
 "cells": [
  {
   "attachments": {},
   "cell_type": "markdown",
   "metadata": {},
   "source": [
    "1. How many types of conditions are available in conditional formatting on Excel?\n",
    "Conditional formatting in Excel supports a number of different kinds of conditions, including:\n",
    "Data Bars for Cell Value Formulas\n",
    "Color Palettes\n",
    "Symbol Sets"
   ]
  },
  {
   "attachments": {},
   "cell_type": "markdown",
   "metadata": {},
   "source": [
    "2. How to insert border in Excel with Format Cells dialog?\n",
    "Using Excel's Format Cells dialogue, add borders:\n",
    "Right-click on the cells you want to add borders to, then select Format Cells, or simply press Ctrl + 1.\n",
    "the Boundary tab in the Format Cells dialogue box\n",
    "Choose the border style that you want to use.\n",
    "Choose the border's style, colour, and width.\n",
    "To add the border to the chosen cells, click OK."
   ]
  },
  {
   "attachments": {},
   "cell_type": "markdown",
   "metadata": {},
   "source": [
    "3. How to Format Numbers as Currency in Excel?\n",
    "In Excel, format numbers as currency as follows:\n",
    "Choose which cells you want to format.\n",
    "Activate the Home tab.\n",
    "Under the Number group, select the Number Format selection.\n",
    "Choose \"Currency\" from the list of available options."
   ]
  },
  {
   "attachments": {},
   "cell_type": "markdown",
   "metadata": {},
   "source": [
    "4. What are the steps to format numbers in Excel with the Percent style?\n",
    "In Excel, format numbers using the percent style as follows:\n",
    "Choose which cells you want to format.\n",
    "Activate the Home tab.\n",
    "Under the Number group, select the Number Format selection.\n",
    "Choose % from the available options."
   ]
  },
  {
   "attachments": {},
   "cell_type": "markdown",
   "metadata": {},
   "source": [
    "5. What is a shortcut to merge two or more cells in excel?\n",
    "Excel's keyboard shortcut for merging two or more cells is Alt + H + M + M."
   ]
  },
  {
   "attachments": {},
   "cell_type": "markdown",
   "metadata": {},
   "source": [
    "6. How do you use text commands in Excel?\n",
    "Excel's CONCATENATE function or the \"&\" operator can be used to combine text from many cells into a single cell. The formula =A1 & \" \" & B1, for instance, would combine the text in the two cells with a space between them to unite the contents of cells A1 and B1. Text in cells can also be changed using a variety of text functions, including LEFT, RIGHT, MID, FIND, REPLACE, and others."
   ]
  }
 ],
 "metadata": {
  "language_info": {
   "name": "python"
  },
  "orig_nbformat": 4
 },
 "nbformat": 4,
 "nbformat_minor": 2
}
