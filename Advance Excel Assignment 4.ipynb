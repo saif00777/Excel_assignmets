{
 "cells": [
  {
   "attachments": {},
   "cell_type": "markdown",
   "metadata": {},
   "source": [
    "1. To use the ribbon commands, what menu and grouping of commands will you\n",
    "find the Insert and Delete command?\n",
    "The Cells group in the Home tab menu contains the Insert and Delete commands."
   ]
  },
  {
   "attachments": {},
   "cell_type": "markdown",
   "metadata": {},
   "source": [
    "2. If you set a row height or column width to 0 (zero), what happens to the row and\n",
    "column?\n",
    "The row or column will be hidden if you set a row height or column width to 0 (zero)."
   ]
  },
  {
   "attachments": {},
   "cell_type": "markdown",
   "metadata": {},
   "source": [
    "3. Is there a need to change the height and width in a cell? Why?\n",
    "A cell's height and width may need to be changed if the text or data is too large or too little to be easily readable."
   ]
  },
  {
   "attachments": {},
   "cell_type": "markdown",
   "metadata": {},
   "source": [
    "4. What is the keyboard shortcut to unhide rows?\n",
    "Rows can be revealed by pressing Ctrl + Shift + 9."
   ]
  },
  {
   "attachments": {},
   "cell_type": "markdown",
   "metadata": {},
   "source": [
    "5. How to hide rows containing blank cells?\n",
    "To conceal rows with empty cells:\n",
    "\n",
    "Choose the rows you want to conceal.\n",
    "Choose the Home tab.\n",
    "In the Editing group, select the Find & Select option.\n",
    "Choose Go To Special\n",
    "Choose Blanks, then click OK.\n",
    "Choose Hide by performing a right-click on one of the checked cells."
   ]
  },
  {
   "attachments": {},
   "cell_type": "markdown",
   "metadata": {},
   "source": [
    "6. What are the steps to hide the duplicate values using conditional formatting in\n",
    "excel?\n",
    "Using conditional formatting in Excel, conceal duplicate values:\n",
    "Click on the Home tab and choose the range of cells to which you want to apply conditional formatting.\n",
    "Under the Styles group, select the Conditional Formatting button.\n",
    "Choose Duplicate Values under Highlight Cells Rules.\n",
    "Choose the formatting choices you want to use for the duplicate values.\n",
    "To apply the formatting, click OK."
   ]
  }
 ],
 "metadata": {
  "language_info": {
   "name": "python"
  },
  "orig_nbformat": 4
 },
 "nbformat": 4,
 "nbformat_minor": 2
}
